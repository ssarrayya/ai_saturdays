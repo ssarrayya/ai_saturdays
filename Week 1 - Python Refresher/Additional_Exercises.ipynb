{
  "nbformat": 4,
  "nbformat_minor": 0,
  "metadata": {
    "colab": {
      "provenance": []
    },
    "kernelspec": {
      "name": "python3",
      "display_name": "Python 3"
    },
    "language_info": {
      "name": "python"
    }
  },
  "cells": [
    {
      "cell_type": "markdown",
      "source": [
        "#### Additional Exercises\n",
        "\n",
        "- Write a function that checks if a given number is prime and returns True if it is or False otherwise.\n",
        "- Create a function that takes a list of integers and returns a new list with only the even numbers from the original list.\n",
        "- Implement a function that calculates the factorial of a given positive integer using recursion."
      ],
      "metadata": {
        "id": "LAVBuk2Plhva"
      }
    },
    {
      "cell_type": "markdown",
      "source": [
        "# Check if a number is prime"
      ],
      "metadata": {
        "id": "2nOJUsfdlmfx"
      }
    },
    {
      "cell_type": "code",
      "execution_count": null,
      "metadata": {
        "id": "aybMEk9NlNkn"
      },
      "outputs": [],
      "source": [
        "def is_prime(x):\n",
        "  possible_divisors = [2, 3, 5]\n",
        "  for _ in possible_divisors:\n",
        "    if x == _:\n",
        "      return True\n",
        "      break;\n",
        "    elif x % _ != 0:\n",
        "      return True\n",
        "    else:\n",
        "      return False"
      ]
    },
    {
      "cell_type": "code",
      "source": [
        "is_prime(5)"
      ],
      "metadata": {
        "id": "MNaEAD34l264"
      },
      "execution_count": null,
      "outputs": []
    },
    {
      "cell_type": "markdown",
      "source": [
        "# Only even numbers allowed!"
      ],
      "metadata": {
        "id": "S1TbcxVjl_8a"
      }
    },
    {
      "cell_type": "code",
      "source": [
        "def only_even(y):\n",
        "  for _ in y:\n",
        "    if _ % 2 != 0:\n",
        "      y.remove(_)\n",
        "  return y"
      ],
      "metadata": {
        "id": "4uKaSIKEmGn8"
      },
      "execution_count": 2,
      "outputs": []
    },
    {
      "cell_type": "code",
      "source": [
        "only_even([1, 2, 3, 4, 5, 6, 7, 8, 9, 10])"
      ],
      "metadata": {
        "colab": {
          "base_uri": "https://localhost:8080/"
        },
        "id": "Mn2hvcUKnHZF",
        "outputId": "6744c48e-1567-438c-b45e-d82f30aae5a9"
      },
      "execution_count": 4,
      "outputs": [
        {
          "output_type": "execute_result",
          "data": {
            "text/plain": [
              "[2, 4, 6, 8, 10]"
            ]
          },
          "metadata": {},
          "execution_count": 4
        }
      ]
    },
    {
      "cell_type": "markdown",
      "source": [
        "# Recursion Factorial"
      ],
      "metadata": {
        "id": "iOvyJthindH_"
      }
    },
    {
      "cell_type": "code",
      "source": [
        "def factorial(z):\n",
        "  if z == 1 or z == 0:\n",
        "    return 1\n",
        "  else:\n",
        "    return z * factorial(z-1)"
      ],
      "metadata": {
        "id": "lUb8iZcfng2p"
      },
      "execution_count": 5,
      "outputs": []
    },
    {
      "cell_type": "code",
      "source": [
        "factorial(6)"
      ],
      "metadata": {
        "colab": {
          "base_uri": "https://localhost:8080/"
        },
        "id": "k3S8j9DboxVd",
        "outputId": "8c8ce106-ae31-49e9-bd3d-2ccade72c55d"
      },
      "execution_count": 6,
      "outputs": [
        {
          "output_type": "execute_result",
          "data": {
            "text/plain": [
              "720"
            ]
          },
          "metadata": {},
          "execution_count": 6
        }
      ]
    }
  ]
}